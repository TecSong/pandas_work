{
 "metadata": {
  "kernelspec": {
   "name": "python3",
   "display_name": "Python 3 (ipykernel)",
   "language": "python"
  }
 },
 "nbformat": 4,
 "nbformat_minor": 0,
 "cells": [
  {
   "attachments": {},
   "cell_type": "markdown",
   "metadata": {
    "pycharm": {
     "name": "#%% md\n"
    }
   },
   "source": [
    "# Nations dataset\n",
    "\n",
    "This problem set is created by Xile Zhang and modified by the instructor. All errors are likely from the modifications.\n",
    "\n",
    "`nations.csv` comes from [World Bank Indicators portal](https://data.worldbank.org/indicator/), which contains the following fields:\n",
    "\n",
    "*   `iso2c`/`iso3c`: Two and Three letter codes for each country, assigned by the International Organization for Standardization.\n",
    "*   `country`\n",
    "*   `year`\n",
    "*   `gdp_percap`: Gross Domestic Product per capita in current international dollars, corrected for purchasing power in different territories.\n",
    "*   `life_expect`: Life expectancy at birth, in years.\n",
    "*   `population`\n",
    "*   `birth_rate`: Live births during the year per 1,000 people\n",
    "*   `neonat_mortal_rate`: Babies dying before reaching 28 days of age, per 1,000 live births in a given year.\n",
    "*   `region`\n",
    "*   `income`\n",
    "\n",
    "For this assignment, we would explore this dataset to gather insight on how the birth rate change in each country in 2016.\n",
    "\n",
    "Please use the file provided here instead of any files on the website (they may be updated online).\n"
   ]
  },
  {
   "cell_type": "code",
   "execution_count": 1,
   "metadata": {
    "pycharm": {
     "name": "#%%\n"
    }
   },
   "outputs": [
    {
     "data": {
      "text/html": "<div>\n<style scoped>\n    .dataframe tbody tr th:only-of-type {\n        vertical-align: middle;\n    }\n\n    .dataframe tbody tr th {\n        vertical-align: top;\n    }\n\n    .dataframe thead th {\n        text-align: right;\n    }\n</style>\n<table border=\"1\" class=\"dataframe\">\n  <thead>\n    <tr style=\"text-align: right;\">\n      <th></th>\n      <th>iso2c</th>\n      <th>iso3c</th>\n      <th>country</th>\n      <th>year</th>\n      <th>gdp_percap</th>\n      <th>life_expect</th>\n      <th>population</th>\n      <th>birth_rate</th>\n      <th>neonat_mortal_rate</th>\n      <th>region</th>\n      <th>income</th>\n    </tr>\n  </thead>\n  <tbody>\n    <tr>\n      <th>0</th>\n      <td>AD</td>\n      <td>AND</td>\n      <td>Andorra</td>\n      <td>2007</td>\n      <td>NaN</td>\n      <td>NaN</td>\n      <td>82683.0</td>\n      <td>10.1</td>\n      <td>1.5</td>\n      <td>Europe &amp; Central Asia</td>\n      <td>High income</td>\n    </tr>\n    <tr>\n      <th>1</th>\n      <td>AD</td>\n      <td>AND</td>\n      <td>Andorra</td>\n      <td>2011</td>\n      <td>NaN</td>\n      <td>NaN</td>\n      <td>83751.0</td>\n      <td>NaN</td>\n      <td>1.3</td>\n      <td>Europe &amp; Central Asia</td>\n      <td>High income</td>\n    </tr>\n    <tr>\n      <th>2</th>\n      <td>AD</td>\n      <td>AND</td>\n      <td>Andorra</td>\n      <td>2013</td>\n      <td>NaN</td>\n      <td>NaN</td>\n      <td>80788.0</td>\n      <td>NaN</td>\n      <td>1.2</td>\n      <td>Europe &amp; Central Asia</td>\n      <td>High income</td>\n    </tr>\n  </tbody>\n</table>\n</div>",
      "text/plain": "  iso2c iso3c  country  year  gdp_percap  life_expect  population  birth_rate  \\\n0    AD   AND  Andorra  2007         NaN          NaN     82683.0        10.1   \n1    AD   AND  Andorra  2011         NaN          NaN     83751.0         NaN   \n2    AD   AND  Andorra  2013         NaN          NaN     80788.0         NaN   \n\n   neonat_mortal_rate                 region       income  \n0                 1.5  Europe & Central Asia  High income  \n1                 1.3  Europe & Central Asia  High income  \n2                 1.2  Europe & Central Asia  High income  "
     },
     "execution_count": 1,
     "metadata": {},
     "output_type": "execute_result"
    }
   ],
   "source": [
    "import pandas as pd\n",
    "import numpy as np\n",
    "import seaborn as sns\n",
    "nations = pd.read_csv('nations.csv')\n",
    "nations.head(3)"
   ]
  },
  {
   "attachments": {},
   "cell_type": "markdown",
   "metadata": {
    "pycharm": {
     "name": "#%% md\n"
    }
   },
   "source": [
    "## Task 1 - Convert data type\n",
    "*   Please convert values in column `year` to string type (or `'O'`) using `.astype()`\n",
    "*   Create an integer variable named 'n_countries' where this number equals to the number of unique countries in the data frame."
   ]
  },
  {
   "cell_type": "code",
   "execution_count": 5,
   "metadata": {
    "pycharm": {
     "name": "#%%\n"
    }
   },
   "outputs": [],
   "source": [
    "### TEST FUNCTION: test_col_convert\n",
    "# DO NOT REMOVE THE LINE ABOVE\n",
    "\n"
   ]
  },
  {
   "cell_type": "code",
   "execution_count": 6,
   "metadata": {
    "pycharm": {
     "name": "#%%\n"
    }
   },
   "outputs": [],
   "source": []
  },
  {
   "cell_type": "code",
   "execution_count": 7,
   "metadata": {
    "pycharm": {
     "name": "#%%\n"
    }
   },
   "outputs": [],
   "source": []
  },
  {
   "cell_type": "code",
   "execution_count": 8,
   "metadata": {
    "pycharm": {
     "name": "#%%\n"
    }
   },
   "outputs": [],
   "source": []
  },
  {
   "attachments": {},
   "cell_type": "markdown",
   "metadata": {
    "pycharm": {
     "name": "#%% md\n"
    }
   },
   "source": [
    "## Task 2 - Data Subset"
   ]
  },
  {
   "attachments": {},
   "cell_type": "markdown",
   "metadata": {
    "pycharm": {
     "name": "#%% md\n"
    }
   },
   "source": [
    "*   please filter the data frame to only these 3 columns: `country`, `year`, and `birth_rate`.\n",
    "*   please keep only records from the year 2015 or 2016\n",
    "*   Please name this filtered data frame `df_birth`"
   ]
  },
  {
   "cell_type": "code",
   "execution_count": 9,
   "metadata": {
    "pycharm": {
     "name": "#%%\n"
    }
   },
   "outputs": [],
   "source": [
    "### TEST FUNCTION: test_sub_years\n",
    "# DO NOT REMOVE THE LINE ABOVE\n",
    "\n"
   ]
  },
  {
   "cell_type": "code",
   "execution_count": 10,
   "metadata": {
    "pycharm": {
     "name": "#%%\n"
    }
   },
   "outputs": [],
   "source": []
  },
  {
   "attachments": {},
   "cell_type": "markdown",
   "metadata": {
    "pycharm": {
     "name": "#%% md\n"
    }
   },
   "source": [
    "## Task 3 - Pivot table\n",
    "*  Please create a new variable called: `df_birth_pivot`. This should have 3 columns: `country`, `2015`, and `2016`. `country` should contain the country names where the other two columns should contain the values correspond to birth rates in the respective years. Hint: `pandas.DataFrame.pivot_table`\n"
   ]
  },
  {
   "cell_type": "code",
   "execution_count": 11,
   "metadata": {
    "pycharm": {
     "name": "#%%\n"
    }
   },
   "outputs": [],
   "source": [
    "### TEST FUNCTION: test_pivot\n",
    "# DO NOT REMOVE THE LINE ABOVE\n",
    "\n"
   ]
  },
  {
   "cell_type": "code",
   "execution_count": 12,
   "metadata": {
    "pycharm": {
     "name": "#%%\n"
    }
   },
   "outputs": [],
   "source": []
  },
  {
   "cell_type": "code",
   "execution_count": 10,
   "metadata": {
    "pycharm": {
     "name": "#%%\n"
    }
   },
   "outputs": [],
   "source": []
  },
  {
   "cell_type": "code",
   "execution_count": 13,
   "metadata": {
    "pycharm": {
     "name": "#%%\n"
    }
   },
   "outputs": [],
   "source": []
  },
  {
   "cell_type": "code",
   "execution_count": 14,
   "metadata": {
    "pycharm": {
     "name": "#%%\n"
    }
   },
   "outputs": [],
   "source": []
  },
  {
   "cell_type": "code",
   "execution_count": 15,
   "metadata": {
    "pycharm": {
     "name": "#%%\n"
    }
   },
   "outputs": [],
   "source": []
  },
  {
   "attachments": {},
   "cell_type": "markdown",
   "metadata": {
    "pycharm": {
     "name": "#%% md\n"
    }
   },
   "source": [
    "## Task 4 - Data Wrangle\n",
    "*   Using `pandas.DataFrame.dropna()`, please drop records that have missing value in any of the columns.\n",
    "* Please create an integer variable called `num_countries_dropped` that contains the number of countries dropped from this operation.\n",
    "*   Reassign the result to `df_pivot_sans_na`.\n"
   ]
  },
  {
   "cell_type": "code",
   "execution_count": 16,
   "metadata": {
    "pycharm": {
     "name": "#%%\n"
    }
   },
   "outputs": [],
   "source": [
    "### TEST FUNCTION: test_drop\n",
    "# DO NOT REMOVE THE LINE ABOVE\n",
    "\n"
   ]
  },
  {
   "cell_type": "code",
   "execution_count": 15,
   "metadata": {
    "pycharm": {
     "name": "#%%\n"
    }
   },
   "outputs": [],
   "source": []
  },
  {
   "attachments": {},
   "cell_type": "markdown",
   "metadata": {
    "pycharm": {
     "name": "#%% md\n"
    }
   },
   "source": [
    "## Task 5 - Birth Rate Decrease"
   ]
  },
  {
   "attachments": {},
   "cell_type": "markdown",
   "metadata": {
    "pycharm": {
     "name": "#%% md\n"
    }
   },
   "source": [
    "*   Please add a new columns `birth_rate_change` to dataframe `df_pivot_sans_na`. The calculation formula would be:   \n",
    "> (birth_rate in 2016 - birth_rate in 2015) / birth_rate in 2015\n",
    "*   Please create a variable named, `lowest_birth_rate_2016`, that contains the name(s) of the country(ies) with lowest birth rate(s) in 2016. \n",
    "*   Please create a variable named, \"largest_birth_rate_decrease\", that contains the name(s) of the country(ies) with largest birth rate(s) decrease. "
   ]
  },
  {
   "cell_type": "code",
   "execution_count": 17,
   "metadata": {
    "pycharm": {
     "name": "#%%\n"
    }
   },
   "outputs": [],
   "source": [
    "### TEST FUNCTION: test_rate_change\n",
    "# DO NOT REMOVE THE LINE ABOVE\n",
    "\n"
   ]
  },
  {
   "cell_type": "code",
   "execution_count": 18,
   "metadata": {
    "pycharm": {
     "name": "#%%\n"
    }
   },
   "outputs": [],
   "source": []
  },
  {
   "cell_type": "code",
   "execution_count": 19,
   "metadata": {
    "pycharm": {
     "name": "#%%\n"
    }
   },
   "outputs": [],
   "source": []
  },
  {
   "cell_type": "code",
   "execution_count": 63,
   "metadata": {
    "pycharm": {
     "name": "#%%\n"
    }
   },
   "outputs": [],
   "source": []
  },
  {
   "attachments": {},
   "cell_type": "markdown",
   "metadata": {
    "pycharm": {
     "name": "#%% md\n"
    }
   },
   "source": [
    "## Task 7 - Relationship between gdp_percap and birth_rate"
   ]
  },
  {
   "attachments": {},
   "cell_type": "markdown",
   "metadata": {
    "pycharm": {
     "name": "#%% md\n"
    }
   },
   "source": [
    "Plot the relationship between `birth_rate` (y axes) and `gdp_percap` (x axes) in 2016 using `seaborn.scatterplot()`. You'll need to use the original data frame.\n",
    "\n",
    "*   Please only keep  records from 2016, and assign it to a new variable `nations_sub`, which will be used as the input data of `seaborn.scatterplot()`\n",
    "*   Please map `region` to the color of the points (hint: using the `hue` argument).\n",
    "\n"
   ]
  },
  {
   "cell_type": "code",
   "execution_count": 20,
   "metadata": {
    "pycharm": {
     "name": "#%%\n"
    }
   },
   "outputs": [],
   "source": [
    "### TEST FUNCTION: test_plot\n",
    "# DO NOT REMOVE THE LINE ABOVE\n",
    "\n"
   ]
  },
  {
   "cell_type": "code",
   "execution_count": 0,
   "metadata": {
    "pycharm": {
     "name": "#%%\n"
    }
   },
   "outputs": [],
   "source": []
  }
 ]
}