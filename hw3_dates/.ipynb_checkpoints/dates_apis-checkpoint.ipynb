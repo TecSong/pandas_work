{
    "metadata": {
        "kernelspec": {
            "name": "python3",
            "display_name": "Python 3 (ipykernel)",
            "language": "python"
        }
    },
    "nbformat": 4,
    "nbformat_minor": 2,
    "cells": [
        {
            "attachments": {},
            "cell_type": "markdown",
            "metadata": {},
            "source": [
                "## Duration of a 311 request?\n",
                "\n",
                "[311 dataset on NYC OpenData](https://data.cityofnewyork.us/Social-Services/311-Service-Requests-from-2010-to-Present/erm2-nwe9) contains a variety of service requests towards the city.\n",
                "\n",
                "We will work towards understanding how long these requests take to complete."
            ]
        },
        {
            "attachments": {},
            "cell_type": "markdown",
            "metadata": {},
            "source": [
                "## Task 1 - Get the data we want\n",
                "\n",
                "- Please assign the URL of the API to this dataset in a variable named `\"url\"`.\n",
                "- Please fix the query below so we obtain all the data\n",
                "  - In 2020, March (i.e. `2020/03/01 00:00:00` to `2020/03/31 11:59:59`)\n",
                "  - For zip codes 10025, 10026, and 10027\n",
                "  - We only want the columns\n",
                "    ```\n",
                "    \"unique_key,created_date,closed_date,agency_name,\"\n",
                "    \"complaint_type,descriptor,incident_zip,resolution_description,\"\n",
                "    \"Latitude,Longitude\"\n",
                "    ```\n",
                "  - The data should be wrangled into a data frame and assigned to a variable called `\"df\"`\n",
                "  - Hint: You will need to read a bit in the API Docs:\n",
                "    - [SoQL functions](https://dev.socrata.com/docs/queries/)  \n",
                "    - There should be fewer than 5000 records overall.\n",
                "- Please keep the use of `requests` in the solution"
            ]
        },
        {
            "cell_type": "code",
            "execution_count": 1,
            "metadata": {},
            "outputs": [],
            "source": [
                "### TEST FUNCTION: test_api_call\n",
                "# DO NOT REMOVE THE LINE ABOVE\n",
                "\n",
                "import pandas as pd\n",
                "import requests\n",
                "\n",
                "url = \"\"\n",
                "\n",
                "params = {\"$where\": (\"created_date between '2022-02-01T00:00:00' and '2022-02-14T11:59:59'\"\n",
                "                     \"AND incident_zip = '10025'\")}\n",
                "\n",
                "resp = requests.get(url, param=params)\n",
                "if resp.status_code != 200:\n",
                "   print(\"Non-200 status:\", resp.text)"
            ]
        },
        {
            "cell_type": "code",
            "execution_count": 0,
            "metadata": {},
            "outputs": [],
            "source": [
                ""
            ]
        },
        {
            "cell_type": "code",
            "execution_count": 0,
            "metadata": {},
            "outputs": [],
            "source": [
                ""
            ]
        },
        {
            "attachments": {},
            "cell_type": "markdown",
            "metadata": {},
            "source": [
                "## Task 2 - Exploring the data\n",
                "\n",
                "For the following, you should let the code assign the variables instead of hard-coding any of the values. A hard-coded answer is like `answer=1000` where code that will change according to the problem is more like `answer = df.var1.mean()`.\n",
                "\n",
                "- Which zip code had the most complaints? Assign this integer to a variable called `\"busy_zip\"`.\n",
                "- What percentage of records are closed the moment they are created? Assign this to a variable named `\"perc_instant\"`.\n",
                "- What percentage of records do not have a closed date (i.e. `closed_date` is `NaN`)? Assign this to a variable named `\"perc_open\"`\n",
                "- What is the most common complaint type? Assign this to a variable named `\"popular_complaint\"`"
            ]
        },
        {
            "cell_type": "code",
            "execution_count": 48,
            "metadata": {},
            "outputs": [],
            "source": [
                "### TEST FUNCTION: test_eda\n",
                "# DO NOT REMOVE THE LINE ABOVE\n",
                ""
            ]
        },
        {
            "attachments": {},
            "cell_type": "markdown",
            "metadata": {},
            "source": [
                "## Task 3 - Conditional Statements\n",
                "\n",
                "For the following, you should let the code assign the variables instead of hard-coding any of the values. A hard-coded answer is like `answer=1000` where code that will change according to the problem is more like `answer = df.var1.mean()`.\n",
                "\n",
                "- What is the most common complaint type that is closed in 0 hours? Assign this to a variable named `\"popular_instant_complaint\"`\n",
                "- What is the most common `resolution_description` associated with the records that do no thave a closed date? Assign this to a variable named `\"popular_resolution_not\"`\n",
                "- What is the median number of hours required to close a 311 request if we exlcude the records with 0 hours and those with no closed date? Assign this to a variable named `\"median_time_to_close_hr\"`"
            ]
        },
        {
            "cell_type": "code",
            "execution_count": 49,
            "metadata": {},
            "outputs": [],
            "source": [
                "### TEST FUNCTION: test_conditional\n",
                "# DO NOT REMOVE THE LINE ABOVE\n",
                "\n",
                ""
            ]
        },
        {
            "cell_type": "code",
            "execution_count": 0,
            "metadata": {},
            "outputs": [],
            "source": [
                ""
            ]
        }
    ]
}
