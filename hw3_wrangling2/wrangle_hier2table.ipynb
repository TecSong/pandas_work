{
 "metadata": {
  "kernelspec": {
   "name": "python3",
   "display_name": "Python 3 (ipykernel)",
   "language": "python"
  }
 },
 "nbformat": 4,
 "nbformat_minor": 2,
 "cells": [
  {
   "attachments": {},
   "cell_type": "markdown",
   "metadata": {
    "pycharm": {
     "name": "#%% md\n"
    }
   },
   "source": [
    "## NYTimes Data\n",
    "\n",
    "A news article can have multiple headlines, multiple authors, and multiple keywords associated with it so it's hard to store \"article data\" in a tabular format. We will look at data from the [NYTimes Archive API in 2020 January](https://developer.nytimes.com/docs/archive-product/1/overview) to answer the following questions:\n",
    "- How many unique authors are working for NYTimes?\n",
    "- How many \"subjects\" have NYTimes written about?\n",
    "- Which author has written about the most number of \"subjects\"?\n",
    "- Which \"subject\" is the most popular across authors for NYTimes?\n",
    "\n",
    "To answer these question, we will try to wrangle the data in `\"nytimes_archive_202001.json\"` to a data frame where the columns are the different subjects and the rows are the different authors.\n",
    "- Definition for \"subject\": each article, under `keywords`, can have several type of keywords like \"glocations\", \"subject\", or \"persons\". The `\"value\"` corresponding to the keywords with `\"name\"` being `\"subject\"` is what we are defining as subjects. In the example below, `\"Deaths (Obituaries)\"` would be a subject but `\"Vasulka Woody\"` wouldn't be.\n",
    "  ```\n",
    "  [{'name': ['persons'],\n",
    "    'value': ['Vasulka, Woody'],\n",
    "    'rank': [1],\n",
    "    'major': ['N']},\n",
    "   {'name': ['subject'],\n",
    "    'value': ['Deaths (Obituaries)'],\n",
    "    'rank': [2],\n",
    "    'major': ['N']}]\n",
    "  ```\n",
    "- Definition for author: an author is someone under the field `\"byline\"` under `\"person\"` with any letters in their first, middle, or last name. Therefore it's possible to have someone named `\"J R\"`\n",
    "  - We will assume that authors with different `\"{FIRSET_NAME} {MIDDLE_NAME} {LAST_NAME}\"` are different individuals. If one does not have a middle name, there should only be one space between their first and last name. If someone only has a first name, there should be no spaces before or after their name.\n",
    "  - It is possible to not have an author!\n",
    "- The values within the data frame should be an integer reflecting the number of articles that author has written or co-authored with that subject tag."
   ]
  },
  {
   "attachments": {},
   "cell_type": "markdown",
   "metadata": {
    "pycharm": {
     "name": "#%% md\n"
    }
   },
   "source": [
    "## Task 1 - wrangle\n",
    "\n",
    "Please wrangle the data under `\"nytimes_archive_202001.json\"` to the data frame format described above.\n",
    "- Please name your final data frame `\"auth_sub_df\"`\n",
    "- Please make sure the author names are stored in the `index` field for your data frame.\n",
    "- Please make sure the subjects are stored as `columns` for the data frame as well.\n",
    "- The values in the data frame should correspond to the frequency of that author writing on that subject across all articles.\n",
    "- Everything should be case sensitive.\n",
    "- You may need to download this dataset and complete it in your local environment first. Ed will likely crash.\n",
    "- For beginners, I recommend looping over the data **twice**: figure out the total number of unique authors and subjects with the first pass, create an empty data frame, then fill in the data frame afterwards with the second pass."
   ]
  },
  {
   "cell_type": "code",
   "execution_count": 13,
   "metadata": {
    "pycharm": {
     "name": "#%%\n"
    }
   },
   "outputs": [],
   "source": [
    "import json\n",
    "with open(\"nytimes_archive_202001.json\", \"r\") as f:\n",
    "    dat = json.load(f)"
   ]
  },
  {
   "cell_type": "code",
   "execution_count": 14,
   "metadata": {
    "pycharm": {
     "name": "#%%\n"
    }
   },
   "outputs": [],
   "source": [
    "# According to how dictionaries work, i.e. unordered\n",
    "# you may get a different outcome\n",
    "demo_key = list(dat.keys())[1]"
   ]
  },
  {
   "cell_type": "code",
   "execution_count": 15,
   "metadata": {
    "pycharm": {
     "name": "#%%\n"
    }
   },
   "outputs": [
    {
     "data": {
      "text/plain": "[{'name': ['persons'],\n  'value': ['Vasulka, Woody'],\n  'rank': [1],\n  'major': ['N']},\n {'name': ['subject'],\n  'value': ['Deaths (Obituaries)'],\n  'rank': [2],\n  'major': ['N']},\n {'name': ['subject'], 'value': ['Art'], 'rank': [3], 'major': ['N']},\n {'name': ['organizations'],\n  'value': ['Kitchen, The (Manhattan, NY, Performance Space)'],\n  'rank': [4],\n  'major': ['N']},\n {'name': ['subject'],\n  'value': ['Video Recordings, Downloads and Streaming'],\n  'rank': [5],\n  'major': ['N']}]"
     },
     "execution_count": 15,
     "metadata": {},
     "output_type": "execute_result"
    }
   ],
   "source": [
    "dat[demo_key].get(\"keywords\")"
   ]
  },
  {
   "cell_type": "code",
   "execution_count": 16,
   "metadata": {
    "pycharm": {
     "name": "#%%\n"
    }
   },
   "outputs": [
    {
     "data": {
      "text/plain": "[{'firstname': ['Richard'],\n  'middlename': {},\n  'lastname': ['Sandomir'],\n  'qualifier': {},\n  'title': {},\n  'role': ['reported'],\n  'organization': [''],\n  'rank': [1]}]"
     },
     "execution_count": 16,
     "metadata": {},
     "output_type": "execute_result"
    }
   ],
   "source": [
    "dat[demo_key].get(\"byline\").get(\"person\")"
   ]
  },
  {
   "cell_type": "code",
   "execution_count": 0,
   "metadata": {
    "pycharm": {
     "name": "#%%\n"
    }
   },
   "outputs": [],
   "source": [
    "### TEST FUNCTION: test_nytimes\n",
    "# DO NOT REMOVE THE LINE ABOVE\n",
    "\n"
   ]
  },
  {
   "cell_type": "code",
   "execution_count": 0,
   "metadata": {
    "pycharm": {
     "name": "#%%\n"
    }
   },
   "outputs": [],
   "source": []
  },
  {
   "cell_type": "code",
   "execution_count": 0,
   "metadata": {
    "pycharm": {
     "name": "#%%\n"
    }
   },
   "outputs": [],
   "source": []
  },
  {
   "attachments": {},
   "cell_type": "markdown",
   "metadata": {
    "pycharm": {
     "name": "#%% md\n"
    }
   },
   "source": [
    "## Task 2\n",
    "\n",
    "Please answer the original questions using `\"auth_sub_df\"`.\n",
    "\n",
    "- How many unique authors are working for NYTimes? Please assign the answer to a variable named `\"nyt1\"`.\n",
    "- How many \"subjects\" have NYTimes written about? Please assign the answer to a variable named `\"nyt2\"`.\n",
    "- Which author has written about the most number of \"subjects\"? Please assign the answer to a variable named `\"nyt3\"`.\n",
    "- Which \"subject\" is the most popular across authors for NYTimes (this is different from the number of articles written on that topic)? Please assign the answer to a variable named `\"nyt4\"`.\n"
   ]
  },
  {
   "cell_type": "code",
   "execution_count": 0,
   "metadata": {
    "pycharm": {
     "name": "#%%\n"
    }
   },
   "outputs": [],
   "source": [
    "### TEST FUNCTION: test_nytimes2\n",
    "# DO NOT REMOVE THE LINE ABOVE\n",
    "\n"
   ]
  }
 ]
}